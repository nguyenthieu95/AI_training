{
 "cells": [
  {
   "cell_type": "code",
   "execution_count": 19,
   "metadata": {},
   "outputs": [],
   "source": [
    "import GA_func as ga\n",
    "import numpy as np"
   ]
  },
  {
   "cell_type": "code",
   "execution_count": 27,
   "metadata": {},
   "outputs": [
    {
     "name": "stdout",
     "output_type": "stream",
     "text": [
      "Min value:  -5961.09626172176\n",
      "With var:  [ 2.42147794  2.97707888 -0.74070412 -8.4206622   2.68550147 -2.61662069\n",
      " -8.71268768 -2.61662069  2.54896208  5.02868529 -9.29224731 -4.13381771\n",
      " -0.88753747  1.09646842  1.80272933  7.70211156 -8.4206622  -1.05638591\n",
      "  5.27621625 -9.41019013  7.70211156  1.09646842  6.10402468 -2.3768907\n",
      " -8.71268768 -4.0931604  -0.08774703 -8.61430737 -8.71268768 -0.74070412\n",
      " -9.41019013 -2.3768907  -9.29224731 -9.29224731 -9.41019013 -9.72341348\n",
      " -8.63940913 -6.51364967 -3.20957035 -9.29224731 -0.88753747 -1.07357644\n",
      "  1.15513806  1.15513806 -9.41019013 -3.20957035  8.52909207 -2.00388496\n",
      " -9.41019013 -3.46421465]\n",
      "After:  77  cycle\n"
     ]
    }
   ],
   "source": [
    "# with swap mutation\n",
    "pop = ga.generateFirstGen()\n",
    "min_value = []\n",
    "score = ga.fitness_score(pop)\n",
    "min_value.append(min(score))\n",
    "for i in range(len(pop)):\n",
    "    if (score[i] == min_value[-1]):\n",
    "        break\n",
    "var_min = pop[i]\n",
    "count = 0\n",
    "for i in range(1000):\n",
    "    count += 1\n",
    "    parents_index = ga.selectParent(pop, score)\n",
    "    pop = ga.crossOver(pop, parents_index)\n",
    "    pop = ga.mutation(pop, ga.swapMutation)\n",
    "    score = ga.fitness_score(pop)\n",
    "    min_value.append(min(score))\n",
    "    for i in range(len(pop)):\n",
    "        if (score[i] == min_value[-1]):\n",
    "            break\n",
    "    var_min = pop[i]\n",
    "    if abs(min_value[-1]-min_value[-2]) < 1e-20:\n",
    "        break\n",
    "print(\"Min value: \",min_value[-1]*1000)\n",
    "print(\"With var: \",var_min)\n",
    "print(\"After: \",count,' cycle')"
   ]
  },
  {
   "cell_type": "markdown",
   "metadata": {},
   "source": [
    "# for checking error\n",
    "i = 0\n",
    "for x in pop:\n",
    "    if(x.shape != (50,)):\n",
    "        print(i, '.', x.shape)\n",
    "        i += 1"
   ]
  },
  {
   "cell_type": "code",
   "execution_count": 31,
   "metadata": {},
   "outputs": [
    {
     "name": "stdout",
     "output_type": "stream",
     "text": [
      "Min value:  -2434.135566541302\n",
      "With var:  [-9.4261796   0.98182389 -2.8779469  -2.8779469   2.88020008  0.98182389\n",
      "  2.88020008  2.88020008 -2.8779469   0.98182389  2.88020008  1.08056642\n",
      "  2.88020008  1.08056642  1.08056642 -2.8779469   2.88020008  2.88020008\n",
      " -2.8779469  -2.8779469   2.88020008 -2.8779469  -2.8779469   1.08056642\n",
      " -2.8779469   2.88020008 -2.8779469  -2.8779469  -7.68855992 -2.8779469\n",
      "  2.88020008 -2.8779469  -2.8779469   2.88020008 -7.68855992 -2.8779469\n",
      " -2.8779469   2.88020008 -7.68855992 -2.8779469   2.88020008  0.98182389\n",
      "  0.98182389  1.08056642  1.08056642 -2.8779469   2.88020008 -7.68855992\n",
      " -7.68855992 -1.28736849]\n",
      "After:  243  cycle\n"
     ]
    }
   ],
   "source": [
    "# with swap mutation\n",
    "pop = ga.generateFirstGen()\n",
    "min_value = []\n",
    "score = ga.fitness_score(pop)\n",
    "min_value.append(min(score))\n",
    "for i in range(len(pop)):\n",
    "    if (score[i] == min_value[-1]):\n",
    "        break\n",
    "var_min = pop[i]\n",
    "count = 0\n",
    "for i in range(1000):\n",
    "    count += 1\n",
    "    parents_index = ga.selectParent(pop, score)\n",
    "    pop = ga.crossOver(pop, parents_index)\n",
    "    pop = ga.mutation(pop, ga.scrambleMutation)\n",
    "    score = ga.fitness_score(pop)\n",
    "    min_value.append(min(score))\n",
    "    for i in range(len(pop)):\n",
    "        if (score[i] == min_value[-1]):\n",
    "            break\n",
    "    var_min = pop[i]\n",
    "    if abs(min_value[-1]-min_value[-2]) < 1e-20:\n",
    "        break\n",
    "print(\"Min value: \",min_value[-1]*1000)\n",
    "print(\"With var: \",var_min)\n",
    "print(\"After: \",count,' cycle')"
   ]
  },
  {
   "cell_type": "code",
   "execution_count": 39,
   "metadata": {},
   "outputs": [
    {
     "name": "stdout",
     "output_type": "stream",
     "text": [
      "Min value:  -7655.523398134816\n",
      "With var:  [ 1.40187206 -8.44248674 -6.25510174 -0.35543189  7.59923359 -8.46618761\n",
      " -0.67678131 -9.6871858  -1.99493085 -8.44248674 -1.99493085 -4.36594594\n",
      " -9.82887836 -6.02590285 -8.44248674 -9.6871858  -1.99493085 -6.02590285\n",
      "  1.88549723 -4.36594594 -4.36594594 -4.36594594 -4.36594594 -4.36594594\n",
      " -6.02590285  6.63288482 -9.6871858  -1.99493085 -9.6871858  -4.36594594\n",
      " -9.82887836 -8.44248674 -4.36594594 -0.67678131 -4.36594594  1.88549723\n",
      " -6.02590285 -1.99493085 -9.6871858  -4.36594594 -8.44248674 -8.44248674\n",
      " -9.82887836 -9.6871858  -4.36594594 -0.67678131 -8.46618761  9.82912162\n",
      " -8.34180258  2.6237246 ]\n",
      "After:  89  cycle\n"
     ]
    }
   ],
   "source": [
    "# with swap mutation\n",
    "pop = ga.generateFirstGen()\n",
    "min_value = []\n",
    "score = ga.fitness_score(pop)\n",
    "min_value.append(min(score))\n",
    "for i in range(len(pop)):\n",
    "    if (score[i] == min_value[-1]):\n",
    "        break\n",
    "var_min = pop[i]\n",
    "count = 0\n",
    "for i in range(1000):\n",
    "    count += 1\n",
    "    parents_index = ga.selectParent(pop, score)\n",
    "    pop = ga.crossOver(pop, parents_index)\n",
    "    pop = ga.mutation(pop, ga.inverseMutation)\n",
    "    score = ga.fitness_score(pop)\n",
    "    min_value.append(min(score))\n",
    "    for i in range(len(pop)):\n",
    "        if (score[i] == min_value[-1]):\n",
    "            break\n",
    "    var_min = pop[i]\n",
    "    if abs(min_value[-1]-min_value[-2]) < 1e-20:\n",
    "        break\n",
    "print(\"Min value: \",min_value[-1]*1000)\n",
    "print(\"With var: \",var_min)\n",
    "print(\"After: \",count,' cycle')"
   ]
  },
  {
   "cell_type": "code",
   "execution_count": null,
   "metadata": {},
   "outputs": [],
   "source": []
  }
 ],
 "metadata": {
  "kernelspec": {
   "display_name": "Python 3",
   "language": "python",
   "name": "python3"
  },
  "language_info": {
   "codemirror_mode": {
    "name": "ipython",
    "version": 3
   },
   "file_extension": ".py",
   "mimetype": "text/x-python",
   "name": "python",
   "nbconvert_exporter": "python",
   "pygments_lexer": "ipython3",
   "version": "3.6.3"
  }
 },
 "nbformat": 4,
 "nbformat_minor": 2
}
