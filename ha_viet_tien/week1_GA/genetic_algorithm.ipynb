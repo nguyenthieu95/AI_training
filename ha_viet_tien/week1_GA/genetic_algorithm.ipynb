{
 "cells": [
  {
   "cell_type": "code",
   "execution_count": 19,
   "metadata": {},
   "outputs": [],
   "source": [
    "import GA_func as ga\n",
    "import numpy as np"
   ]
  },
  {
   "cell_type": "code",
   "execution_count": 21,
   "metadata": {},
   "outputs": [
    {
     "name": "stdout",
     "output_type": "stream",
     "text": [
      "Min value:  9.59713151779145\n",
      "With var:  [-0.36948738  8.96630829  3.65556635 -2.53271855  0.89714771 -7.20271234\n",
      "  1.52211291 -3.89414335 -8.63548712 -5.3461522   9.69404821 -4.96327503\n",
      "  2.44639405 -2.66632289 -2.79682688  7.69909085 -6.26766411 -3.21595172\n",
      " -2.47030801 -0.50036412  7.20695375  6.88148103 -1.08660283  9.61535148\n",
      "  6.78903499 -7.27417022 -3.84373483 -0.37296857 -9.14832689  3.46165666\n",
      "  7.65371699 -0.3543722   2.10407344  7.42491218 -3.07906574 -2.19819631\n",
      " -3.73467257  4.51009681  4.55498072 -0.08209074  5.11458083 -3.2561215\n",
      "  3.66902568  1.53832125 -6.35196363  4.91354154 -5.3461522   0.34245673\n",
      " -9.26791821  6.24759502]\n",
      "After:  10  cycle\n"
     ]
    }
   ],
   "source": [
    "# with swap mutation\n",
    "pop = ga.generateFirstGen()\n",
    "min_value = []\n",
    "score = ga.fitness_score(pop)\n",
    "min_value.append(min(score))\n",
    "for i in range(len(pop)):\n",
    "    if (score[i] == min_value[-1]):\n",
    "        break\n",
    "var_min = pop[i]\n",
    "count = 0\n",
    "while(1):\n",
    "    count += 1\n",
    "    parents_index = ga.selectParent(pop, score)\n",
    "    pop = ga.crossOver(pop, parents_index)\n",
    "    pop = ga.mutation(pop, ga.swapMutation)\n",
    "    score = ga.fitness_score(pop)\n",
    "    min_value.append(min(score))\n",
    "    for i in range(len(pop)):\n",
    "        if (score[i] == min_value[-1]):\n",
    "            break\n",
    "    var_min = pop[i]\n",
    "    if abs(min_value[-1]-min_value[-2]) < 1e-20:\n",
    "        break\n",
    "print(\"Min value: \",min_value[-1]*1000)\n",
    "print(\"With var: \",var_min)\n",
    "print(\"After: \",count,' cycle')"
   ]
  },
  {
   "cell_type": "markdown",
   "metadata": {},
   "source": [
    "# for checking error\n",
    "i = 0\n",
    "for x in pop:\n",
    "    if(x.shape != (50,)):\n",
    "        print(i, '.', x.shape)\n",
    "        i += 1"
   ]
  },
  {
   "cell_type": "code",
   "execution_count": null,
   "metadata": {},
   "outputs": [],
   "source": []
  }
 ],
 "metadata": {
  "kernelspec": {
   "display_name": "Python 3",
   "language": "python",
   "name": "python3"
  },
  "language_info": {
   "codemirror_mode": {
    "name": "ipython",
    "version": 3
   },
   "file_extension": ".py",
   "mimetype": "text/x-python",
   "name": "python",
   "nbconvert_exporter": "python",
   "pygments_lexer": "ipython3",
   "version": "3.6.3"
  }
 },
 "nbformat": 4,
 "nbformat_minor": 2
}
