{
 "cells": [
  {
   "cell_type": "code",
   "execution_count": 35,
   "metadata": {},
   "outputs": [],
   "source": [
    "import GA_func as ga\n",
    "import numpy as np"
   ]
  },
  {
   "cell_type": "code",
   "execution_count": 36,
   "metadata": {},
   "outputs": [],
   "source": [
    "sample = ga.generateFirstGen()"
   ]
  },
  {
   "cell_type": "code",
   "execution_count": 37,
   "metadata": {},
   "outputs": [
    {
     "name": "stdout",
     "output_type": "stream",
     "text": [
      "-4.315\n"
     ]
    }
   ],
   "source": [
    "test_score = ga.fitness_score(pop)\n",
    "print(min(test_score))"
   ]
  },
  {
   "cell_type": "code",
   "execution_count": 38,
   "metadata": {},
   "outputs": [
    {
     "name": "stdout",
     "output_type": "stream",
     "text": [
      "Min value:  -3256.871859861017\n",
      "With var:  [ 2.57710637  8.03999524 -6.6712894   7.69277132  2.98607289  9.46444228\n",
      " -0.29509262 -9.19681006 -4.51594282 -5.99818296  6.06897694 -1.5492932\n",
      " -0.37911558  8.95303322 -5.99409756 -8.98736018  3.983911    1.64224341\n",
      " -8.68925118  7.81529232 -3.32068968  0.87566674  0.46459146  4.78606277\n",
      " -5.32451756  0.40023206 -9.15861382 -9.5766856  -9.19681006  1.49121864\n",
      "  4.49100325  9.35482013 -8.35735395  8.31491606 -5.71703379 -6.2639835\n",
      " -7.19803591 -9.26727569  7.84108831 -0.07445673 -3.63291797  8.58825664\n",
      "  5.47369104  7.20805664 -8.70083301 -4.44256599 -8.56299583 -2.38167966\n",
      "  1.92502153 -5.40594709]\n",
      "After:  4  cycle\n"
     ]
    }
   ],
   "source": [
    "# with swap mutation\n",
    "pop = sample\n",
    "min_value = []\n",
    "score = ga.fitness_score(pop)\n",
    "min_value.append(min(score))\n",
    "for i in range(len(pop)):\n",
    "    if (score[i] == min_value[-1]):\n",
    "        break\n",
    "var_min = pop[i]\n",
    "count = 0\n",
    "for i in range(1000):\n",
    "    count += 1\n",
    "    parents_index = ga.selectParent(pop, score)\n",
    "    pop = ga.crossOver(pop, parents_index)\n",
    "    pop = ga.mutation(pop, ga.swapMutation, 0.5)\n",
    "    score = ga.fitness_score(pop)\n",
    "    min_value.append(min(score))\n",
    "    for i in range(len(pop)):\n",
    "        if (score[i] == min_value[-1]):\n",
    "            break\n",
    "    var_min = pop[i]\n",
    "    if abs(min_value[-1]-min_value[-2]) < 1e-20:\n",
    "        break\n",
    "print(\"Min value: \",min_value[-1]*1000)\n",
    "print(\"With var: \",var_min)\n",
    "print(\"After: \",count,' cycle')"
   ]
  },
  {
   "cell_type": "markdown",
   "metadata": {},
   "source": [
    "# for checking error\n",
    "i = 0\n",
    "for x in pop:\n",
    "    if(x.shape != (50,)):\n",
    "        print(i, '.', x.shape)\n",
    "        i += 1"
   ]
  },
  {
   "cell_type": "code",
   "execution_count": 39,
   "metadata": {},
   "outputs": [
    {
     "name": "stdout",
     "output_type": "stream",
     "text": [
      "Min value:  -197.33979234989178\n",
      "With var:  [ 2.57710637 -0.12425517 -0.37911558 -0.12425517 -0.37911558 -0.37911558\n",
      " -0.37911558 -0.37911558 -0.37911558 -0.37911558 -0.29509262 -0.37911558\n",
      " -3.63291797 -0.37911558 -0.12425517 -0.37911558 -0.37911558 -0.37911558\n",
      " -0.29509262 -0.37911558 -0.37911558 -0.37911558 -0.37911558 -0.12425517\n",
      " -0.37911558 -0.29509262 -0.29509262 -0.37911558 -3.63291797 -0.37911558\n",
      " -0.29509262 -0.37911558 -0.37911558 -0.37911558 -0.37911558 -0.29509262\n",
      " -0.37911558 -0.37911558 -0.12425517 -0.37911558 -3.63291797 -0.37911558\n",
      " -0.37911558 -0.37911558 -0.37911558 -0.37911558 -3.63291797 -0.37911558\n",
      " -3.55762259 -4.49734644]\n",
      "After:  159  cycle\n"
     ]
    }
   ],
   "source": [
    "# with scramble mutation\n",
    "pop = sample\n",
    "min_value = []\n",
    "score = ga.fitness_score(pop)\n",
    "min_value.append(min(score))\n",
    "for i in range(len(pop)):\n",
    "    if (score[i] == min_value[-1]):\n",
    "        break\n",
    "var_min = pop[i]\n",
    "count = 0\n",
    "for i in range(1000):\n",
    "    count += 1\n",
    "    parents_index = ga.selectParent(pop, score)\n",
    "    pop = ga.crossOver(pop, parents_index)\n",
    "    pop = ga.mutation(pop, ga.scrambleMutation, 0.5)\n",
    "    score = ga.fitness_score(pop)\n",
    "    min_value.append(min(score))\n",
    "    for i in range(len(pop)):\n",
    "        if (score[i] == min_value[-1]):\n",
    "            break\n",
    "    var_min = pop[i]\n",
    "    if abs(min_value[-1]-min_value[-2]) < 1e-20:\n",
    "        break\n",
    "print(\"Min value: \",min_value[-1]*1000)\n",
    "print(\"With var: \",var_min)\n",
    "print(\"After: \",count,' cycle')"
   ]
  },
  {
   "cell_type": "code",
   "execution_count": 40,
   "metadata": {},
   "outputs": [
    {
     "name": "stdout",
     "output_type": "stream",
     "text": [
      "Min value:  -1929.4644867741922\n",
      "With var:  [ 2.57710637 -5.71703379 -8.96285004 -2.42634385 -2.42634385 -1.5492932\n",
      "  6.62586239  1.12151832 -1.5492932  -1.5492932   6.62586239 -2.42634385\n",
      "  1.12151832  6.62586239 -1.5492932   1.12151832 -1.5492932   1.12151832\n",
      " -1.5492932  -1.5492932   6.62586239 -2.42634385 -8.96285004  9.22061432\n",
      "  9.22061432  9.22061432 -8.96285004 -2.42634385 -8.96285004 -1.5492932\n",
      "  1.12151832  1.12151832 -2.42634385 -1.5492932  -8.96285004  9.22061432\n",
      " -1.5492932   1.12151832  1.12151832 -2.42634385  6.62586239 -2.42634385\n",
      " -1.5492932  -1.5492932  -2.42634385 -1.5492932  -8.96285004 -2.42634385\n",
      " -1.5492932  -9.73107012]\n",
      "After:  160  cycle\n"
     ]
    }
   ],
   "source": [
    "# with inverse mutation\n",
    "pop = sample\n",
    "min_value = []\n",
    "score = ga.fitness_score(pop)\n",
    "min_value.append(min(score))\n",
    "for i in range(len(pop)):\n",
    "    if (score[i] == min_value[-1]):\n",
    "        break\n",
    "var_min = pop[i]\n",
    "count = 0\n",
    "for i in range(1000):\n",
    "    count += 1\n",
    "    parents_index = ga.selectParent(pop, score)\n",
    "    pop = ga.crossOver(pop, parents_index)\n",
    "    pop = ga.mutation(pop, ga.inverseMutation, 0.5)\n",
    "    score = ga.fitness_score(pop)\n",
    "    min_value.append(min(score))\n",
    "    for i in range(len(pop)):\n",
    "        if (score[i] == min_value[-1]):\n",
    "            break\n",
    "    var_min = pop[i]\n",
    "    if abs(min_value[-1]-min_value[-2]) < 1e-20:\n",
    "        break\n",
    "print(\"Min value: \",min_value[-1]*1000)\n",
    "print(\"With var: \",var_min)\n",
    "print(\"After: \",count,' cycle')"
   ]
  },
  {
   "cell_type": "code",
   "execution_count": 41,
   "metadata": {},
   "outputs": [
    {
     "name": "stdout",
     "output_type": "stream",
     "text": [
      "Min value:  -3670.94816357086\n",
      "With var:  [  8.           8.03999524   5.          -7.          -3.\n",
      "  -7.          -9.8799935   -1.           7.           0.\n",
      "   5.           3.           7.          -1.          -6.\n",
      "   9.          -8.          -9.          -2.           1.\n",
      " -10.           9.           6.          -7.          -5.\n",
      "   2.          -9.81088748   1.           1.16714957   5.90820183\n",
      "   4.          -3.         -10.          -6.          -9.\n",
      "   7.          -5.67199736   3.          -1.           7.\n",
      "   5.88166911   2.          -3.56528863  -3.           5.\n",
      "  -9.          -3.           5.          -9.          -2.        ]\n",
      "After:  45  cycle\n"
     ]
    }
   ],
   "source": [
    "# with random resetting\n",
    "pop = sample\n",
    "min_value = []\n",
    "score = ga.fitness_score(pop)\n",
    "min_value.append(min(score))\n",
    "for i in range(len(pop)):\n",
    "    if (score[i] == min_value[-1]):\n",
    "        break\n",
    "var_min = pop[i]\n",
    "count = 0\n",
    "for i in range(1000):\n",
    "    count += 1\n",
    "    parents_index = ga.selectParent(pop, score)\n",
    "    pop = ga.crossOver(pop, parents_index)\n",
    "    pop = ga.mutation(pop, ga.randomResetting, 0.5)\n",
    "    score = ga.fitness_score(pop)\n",
    "    min_value.append(min(score))\n",
    "    for i in range(len(pop)):\n",
    "        if (score[i] == min_value[-1]):\n",
    "            break\n",
    "    var_min = pop[i]\n",
    "    if abs(min_value[-1]-min_value[-2]) < 1e-20:\n",
    "        break\n",
    "print(\"Min value: \",min_value[-1]*1000)\n",
    "print(\"With var: \",var_min)\n",
    "print(\"After: \",count,' cycle')"
   ]
  },
  {
   "cell_type": "markdown",
   "metadata": {},
   "source": [
    "# Test attribute: Mutation rate = 0.5\n",
    "# Method: TS - MPC - SM(2)/ScM/IM/RR(3)\n",
    "With the same sample with different types of mutation, after testing a few times, here is my result:\n",
    "\n",
    "SM --  ScM  --  IM  -- RR\n",
    "\n",
    "23(4)  ; 177(3); 448(1) ; 130(2)\n",
    "\n",
    "45(4)  ; 151(3) ; 265(1) ; 26(2)\n",
    "\n",
    "130(4) ; 410(4) ; 11(2)  ; 326(1)\n",
    "\n",
    "37(3)  ; 312(4) ; 6(2)   ; 278(1)\n",
    "\n",
    "4(2)   ; 159(4) ; 160(3) ; 45(1)\n",
    "\n",
    "# Here is my assessment:\n",
    "SM and ScM ,in general, would likely to bring out worst-fit results while IM and RR do opposite. The more loop before convergence occurs, the more likely we have a good-fit result.\n",
    "\n"
   ]
  },
  {
   "cell_type": "code",
   "execution_count": null,
   "metadata": {},
   "outputs": [],
   "source": []
  }
 ],
 "metadata": {
  "kernelspec": {
   "display_name": "Python 3",
   "language": "python",
   "name": "python3"
  },
  "language_info": {
   "codemirror_mode": {
    "name": "ipython",
    "version": 3
   },
   "file_extension": ".py",
   "mimetype": "text/x-python",
   "name": "python",
   "nbconvert_exporter": "python",
   "pygments_lexer": "ipython3",
   "version": "3.6.3"
  }
 },
 "nbformat": 4,
 "nbformat_minor": 2
}
